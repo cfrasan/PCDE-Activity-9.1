{
 "cells": [
  {
   "cell_type": "markdown",
   "metadata": {},
   "source": [
    "# The Massachusetts Institute of Technology (MIT)\n",
    "\n",
    "**Carlos Raymundo**\n",
    "\n",
    "The Massachusetts Institute of Technology (MIT) is a private university in Cambridge, Minnesota. Established in 1861, MIT has since then been at the center of the development of modern technology and science. Since it was founded, MIT has been ranked among the top academic institutions in the world.\n",
    "\n",
    "The original MIT logo was adopted in 1864 and represents two figures: a laborer with an anvil and a scholar with a book. This design symbolizes the union of practical knowledge and academic learning, reflecting the educational philosophy of MIT. The image below displays the original logo\n",
    "\n",
    "<img src=\"imagen.jpg?v=1\" alt=\"MIT\" title=\"MIT\" width=\"400\"/>"
   ]
  },
  {
   "cell_type": "code",
   "execution_count": null,
   "metadata": {},
   "outputs": [],
   "source": []
  }
 ],
 "metadata": {
  "kernelspec": {
   "display_name": "Python 3",
   "language": "python",
   "name": "python3"
  },
  "language_info": {
   "codemirror_mode": {
    "name": "ipython",
    "version": 3
   },
   "file_extension": ".py",
   "mimetype": "text/x-python",
   "name": "python",
   "nbconvert_exporter": "python",
   "pygments_lexer": "ipython3",
   "version": "3.7.3"
  }
 },
 "nbformat": 4,
 "nbformat_minor": 4
}
